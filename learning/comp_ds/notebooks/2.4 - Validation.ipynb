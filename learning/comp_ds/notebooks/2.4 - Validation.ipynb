{
 "cells": [
  {
   "cell_type": "markdown",
   "id": "98f05e46-06d5-4849-88cc-62e0a14908ca",
   "metadata": {},
   "source": [
    "# <center>🦾🤖 2.4 - Валидация - а зачем?</center>"
   ]
  },
  {
   "cell_type": "markdown",
   "id": "48e31c85-314e-4ace-ac27-c2041401c46d",
   "metadata": {},
   "source": [
    "<center> <img src = 'https://scikit-learn.org/stable/_images/grid_search_workflow.png' width=600> </center>\n",
    "\n",
    "* Полезно пробежаться по валидации из Sci-kit Learn https://scikit-learn.org/stable/modules/cross_validation.html"
   ]
  },
  {
   "cell_type": "markdown",
   "id": "2b03e223-5d77-4ad3-aa25-3ba944aa7033",
   "metadata": {},
   "source": [
    "# ⚖️ Какие есть техники валидации?"
   ]
  },
  {
   "cell_type": "markdown",
   "id": "ee4efabd-c1e0-4356-907f-ee648dec6ccc",
   "metadata": {},
   "source": [
    "* `KFold` - кросс-итератор для K-фолдной валидации.\n",
    "* `StratifiedKFold` - он же, но еще и стратифицированный (сбалансированный).\n",
    "* `GroupKFold` - K-фрагментный вариант итератора с непересекающимися группами.\n",
    "* `RepeatedKFold` - K-фолдная валидация с повторениями."
   ]
  },
  {
   "cell_type": "markdown",
   "id": "b98cca23-f395-48a5-a18e-a94575592234",
   "metadata": {},
   "source": [
    "<center> <img src = 'https://scikit-learn.ru/wp-content/uploads/2021/10/image-161.png' width=900> </center>"
   ]
  },
  {
   "cell_type": "markdown",
   "id": "dd3019c5-da35-4b04-8fc2-51af640339f8",
   "metadata": {},
   "source": [
    "## 🍭 Какие валидации полезно попробовать?"
   ]
  },
  {
   "cell_type": "markdown",
   "id": "f0207174-535e-4176-93c1-b8c90a9f91d6",
   "metadata": {},
   "source": [
    "* `StratifiedGroupKFold` - он же, но еще и стратифицированный (сбалансированный)\n",
    "* `RepeatedStratifiedKFold` - а тут стратифицированный, но еще дополнительно с повторениями\n",
    "* А где взять `RepeatedStratifiedGroupKFold`? :)"
   ]
  },
  {
   "cell_type": "markdown",
   "id": "8875a48b-cf12-42ae-9a9c-f2955c01ca0f",
   "metadata": {},
   "source": [
    " "
   ]
  },
  {
   "cell_type": "markdown",
   "id": "18417a83-efdc-43a8-9122-1c442ea57053",
   "metadata": {},
   "source": [
    "## Еще несколько "
   ]
  },
  {
   "cell_type": "markdown",
   "id": "14dbdbbf-8704-412a-8be2-ef002ea561ab",
   "metadata": {},
   "source": [
    "* `Shuffle Split` - сначала перемешивает все сэмплы, потом разделяет на заданное количество фолдов.\n",
    "* `Time Series Split` - используется, когда данные упорядочены по времени.<br>\n",
    "<br>\n",
    "* `Leave One Out (LOO)` - удаляет только 1 сэмпл данных из датасета для каждого фолда (создает все возможные наборы для обучения).\n",
    "* `Leave One Group Out` - тоже самое, но каждый раз удаляет 1 группу сэмплов.\n",
    "* `Leave P Out` - удаляет P сэмплов из датасета и создает все возможные наборы, значения в наборах могут повторяться."
   ]
  },
  {
   "cell_type": "markdown",
   "id": "b46f78a7-e91d-4b01-9844-140afa519f6d",
   "metadata": {},
   "source": [
    "<div class=\"alert alert-info\">\n",
    "    \n",
    "# 🍕 Когда какую выбрать? \n",
    "- Есть временная зависимость?  ➡️ `TimeSeriesSplit`\n",
    "- Мало данных и быстро учится?  ➡️ `LeaveOneOut` \n",
    "- Много данных, но быстро учится?  ➡️ `KFold`\n",
    "- Очень много данных и долго учится?  ➡️ старый добрый `train_test_split()`\n",
    "- Есть дисбаланс классов?  ➡️ Любой итератор с приставкой `Stratified`\n",
    "- Есть группы и нельзя допусть их одновременного присутствия в `train` и `test`?  ➡️ Любой итератор с приставкой `Group`"
   ]
  },
  {
   "cell_type": "markdown",
   "id": "33f4a443-9745-4647-994c-07e784133efc",
   "metadata": {},
   "source": [
    "# 📂 Импорт библиотек"
   ]
  },
  {
   "cell_type": "code",
   "execution_count": 1,
   "id": "f14afcbc-4e63-47e8-bd87-9fae19bf6cfe",
   "metadata": {
    "tags": []
   },
   "outputs": [],
   "source": [
    "import numpy as np\n",
    "import pandas as pd\n",
    "from tqdm.notebook import tqdm"
   ]
  },
  {
   "cell_type": "markdown",
   "id": "e75362d0-b01b-4b2e-89ea-f71ee19a94d8",
   "metadata": {},
   "source": [
    "# 💾 Импорт данных по машинам"
   ]
  },
  {
   "cell_type": "code",
   "execution_count": 2,
   "id": "1e403d32-b775-4fbb-ab04-9aa49e8c84d1",
   "metadata": {},
   "outputs": [
    {
     "data": {
      "text/html": [
       "<div>\n",
       "<style scoped>\n",
       "    .dataframe tbody tr th:only-of-type {\n",
       "        vertical-align: middle;\n",
       "    }\n",
       "\n",
       "    .dataframe tbody tr th {\n",
       "        vertical-align: top;\n",
       "    }\n",
       "\n",
       "    .dataframe thead th {\n",
       "        text-align: right;\n",
       "    }\n",
       "</style>\n",
       "<table border=\"1\" class=\"dataframe\">\n",
       "  <thead>\n",
       "    <tr style=\"text-align: right;\">\n",
       "      <th></th>\n",
       "      <th>car_id</th>\n",
       "      <th>model</th>\n",
       "      <th>car_type</th>\n",
       "      <th>fuel_type</th>\n",
       "      <th>car_rating</th>\n",
       "      <th>year_to_start</th>\n",
       "      <th>riders</th>\n",
       "      <th>year_to_work</th>\n",
       "      <th>target_reg</th>\n",
       "      <th>target_class</th>\n",
       "    </tr>\n",
       "  </thead>\n",
       "  <tbody>\n",
       "    <tr>\n",
       "      <th>1567</th>\n",
       "      <td>Z-1984492i</td>\n",
       "      <td>Kia Rio</td>\n",
       "      <td>economy</td>\n",
       "      <td>petrol</td>\n",
       "      <td>5.18</td>\n",
       "      <td>2011</td>\n",
       "      <td>3357</td>\n",
       "      <td>2018</td>\n",
       "      <td>28.92</td>\n",
       "      <td>break_bug</td>\n",
       "    </tr>\n",
       "    <tr>\n",
       "      <th>1254</th>\n",
       "      <td>k-1148512o</td>\n",
       "      <td>Kia Rio X-line</td>\n",
       "      <td>economy</td>\n",
       "      <td>petrol</td>\n",
       "      <td>5.16</td>\n",
       "      <td>2012</td>\n",
       "      <td>20328</td>\n",
       "      <td>2017</td>\n",
       "      <td>72.60</td>\n",
       "      <td>engine_ignition</td>\n",
       "    </tr>\n",
       "    <tr>\n",
       "      <th>1605</th>\n",
       "      <td>p60146435a</td>\n",
       "      <td>Smart ForTwo</td>\n",
       "      <td>economy</td>\n",
       "      <td>petrol</td>\n",
       "      <td>3.38</td>\n",
       "      <td>2016</td>\n",
       "      <td>110875</td>\n",
       "      <td>2015</td>\n",
       "      <td>42.37</td>\n",
       "      <td>engine_check</td>\n",
       "    </tr>\n",
       "  </tbody>\n",
       "</table>\n",
       "</div>"
      ],
      "text/plain": [
       "          car_id           model car_type fuel_type  car_rating  \\\n",
       "1567  Z-1984492i         Kia Rio  economy    petrol        5.18   \n",
       "1254  k-1148512o  Kia Rio X-line  economy    petrol        5.16   \n",
       "1605  p60146435a    Smart ForTwo  economy    petrol        3.38   \n",
       "\n",
       "      year_to_start  riders  year_to_work  target_reg     target_class  \n",
       "1567           2011    3357          2018       28.92        break_bug  \n",
       "1254           2012   20328          2017       72.60  engine_ignition  \n",
       "1605           2016  110875          2015       42.37     engine_check  "
      ]
     },
     "execution_count": 2,
     "metadata": {},
     "output_type": "execute_result"
    }
   ],
   "source": [
    "train = pd.read_csv(\"https://raw.githubusercontent.com/a-milenkin/Competitive_Data_Science/main/data/car_train.csv\")\n",
    "test = pd.read_csv(\"https://raw.githubusercontent.com/a-milenkin/Competitive_Data_Science/main/data/car_test.csv\")\n",
    "# train.hist(figsize=(25, 5), layout=(-1, 5))\n",
    "train.sample(3)"
   ]
  },
  {
   "cell_type": "markdown",
   "id": "f4e18958-a7fe-441d-9d39-fbd17e67400b",
   "metadata": {},
   "source": [
    "# ⚙️ Базовый `Feature engineering` - генерируем и добавляем признаки "
   ]
  },
  {
   "cell_type": "code",
   "execution_count": 3,
   "id": "2e05bdd3-b213-4c31-b1c4-1a198790aa1b",
   "metadata": {},
   "outputs": [
    {
     "data": {
      "text/html": [
       "<div>\n",
       "<style scoped>\n",
       "    .dataframe tbody tr th:only-of-type {\n",
       "        vertical-align: middle;\n",
       "    }\n",
       "\n",
       "    .dataframe tbody tr th {\n",
       "        vertical-align: top;\n",
       "    }\n",
       "\n",
       "    .dataframe thead th {\n",
       "        text-align: right;\n",
       "    }\n",
       "</style>\n",
       "<table border=\"1\" class=\"dataframe\">\n",
       "  <thead>\n",
       "    <tr style=\"text-align: right;\">\n",
       "      <th></th>\n",
       "      <th>user_id</th>\n",
       "      <th>car_id</th>\n",
       "      <th>ride_id</th>\n",
       "      <th>ride_date</th>\n",
       "      <th>rating</th>\n",
       "      <th>ride_duration</th>\n",
       "      <th>ride_cost</th>\n",
       "      <th>speed_avg</th>\n",
       "      <th>speed_max</th>\n",
       "      <th>stop_times</th>\n",
       "      <th>distance</th>\n",
       "      <th>refueling</th>\n",
       "      <th>user_ride_quality</th>\n",
       "      <th>deviation_normal</th>\n",
       "    </tr>\n",
       "  </thead>\n",
       "  <tbody>\n",
       "    <tr>\n",
       "      <th>342015</th>\n",
       "      <td>W83036903x</td>\n",
       "      <td>Y-8852975t</td>\n",
       "      <td>Z1U</td>\n",
       "      <td>2020-02-25</td>\n",
       "      <td>0.10</td>\n",
       "      <td>43</td>\n",
       "      <td>682</td>\n",
       "      <td>74</td>\n",
       "      <td>129.618609</td>\n",
       "      <td>0</td>\n",
       "      <td>2904.733438</td>\n",
       "      <td>0</td>\n",
       "      <td>-2.958405</td>\n",
       "      <td>-2.889</td>\n",
       "    </tr>\n",
       "    <tr>\n",
       "      <th>327726</th>\n",
       "      <td>L99796268U</td>\n",
       "      <td>X-6349190I</td>\n",
       "      <td>s1G</td>\n",
       "      <td>2020-02-14</td>\n",
       "      <td>3.61</td>\n",
       "      <td>15</td>\n",
       "      <td>205</td>\n",
       "      <td>50</td>\n",
       "      <td>83.502721</td>\n",
       "      <td>0</td>\n",
       "      <td>666.390137</td>\n",
       "      <td>0</td>\n",
       "      <td>4.953634</td>\n",
       "      <td>-29.766</td>\n",
       "    </tr>\n",
       "    <tr>\n",
       "      <th>54065</th>\n",
       "      <td>O94951658S</td>\n",
       "      <td>D20302252H</td>\n",
       "      <td>B1c</td>\n",
       "      <td>2020-03-07</td>\n",
       "      <td>6.30</td>\n",
       "      <td>20</td>\n",
       "      <td>315</td>\n",
       "      <td>44</td>\n",
       "      <td>77.693562</td>\n",
       "      <td>0</td>\n",
       "      <td>733.208182</td>\n",
       "      <td>0</td>\n",
       "      <td>-17.955925</td>\n",
       "      <td>-4.399</td>\n",
       "    </tr>\n",
       "  </tbody>\n",
       "</table>\n",
       "</div>"
      ],
      "text/plain": [
       "           user_id      car_id ride_id   ride_date  rating  ride_duration  \\\n",
       "342015  W83036903x  Y-8852975t     Z1U  2020-02-25    0.10             43   \n",
       "327726  L99796268U  X-6349190I     s1G  2020-02-14    3.61             15   \n",
       "54065   O94951658S  D20302252H     B1c  2020-03-07    6.30             20   \n",
       "\n",
       "        ride_cost  speed_avg   speed_max  stop_times     distance  refueling  \\\n",
       "342015        682         74  129.618609           0  2904.733438          0   \n",
       "327726        205         50   83.502721           0   666.390137          0   \n",
       "54065         315         44   77.693562           0   733.208182          0   \n",
       "\n",
       "        user_ride_quality  deviation_normal  \n",
       "342015          -2.958405            -2.889  \n",
       "327726           4.953634           -29.766  \n",
       "54065          -17.955925            -4.399  "
      ]
     },
     "execution_count": 3,
     "metadata": {},
     "output_type": "execute_result"
    }
   ],
   "source": [
    "path = \"https://raw.githubusercontent.com/a-milenkin/Competitive_Data_Science/main/data/rides_info.csv\"\n",
    "rides = pd.read_csv(path)  # Данные по поездкам\n",
    "# rides.hist(figsize=(15, 5), layout=(-1, 3))\n",
    "rides.sample(3)"
   ]
  },
  {
   "cell_type": "code",
   "execution_count": 4,
   "id": "5c967047-9757-4abb-8115-e79e3dccabec",
   "metadata": {},
   "outputs": [
    {
     "data": {
      "text/html": [
       "<div>\n",
       "<style scoped>\n",
       "    .dataframe tbody tr th:only-of-type {\n",
       "        vertical-align: middle;\n",
       "    }\n",
       "\n",
       "    .dataframe tbody tr th {\n",
       "        vertical-align: top;\n",
       "    }\n",
       "\n",
       "    .dataframe thead th {\n",
       "        text-align: right;\n",
       "    }\n",
       "</style>\n",
       "<table border=\"1\" class=\"dataframe\">\n",
       "  <thead>\n",
       "    <tr style=\"text-align: right;\">\n",
       "      <th></th>\n",
       "      <th>car_id</th>\n",
       "      <th>mean_rating</th>\n",
       "      <th>distance_sum</th>\n",
       "      <th>rating_min</th>\n",
       "      <th>speed_max</th>\n",
       "      <th>user_ride_quality_median</th>\n",
       "      <th>deviation_normal_count</th>\n",
       "      <th>user_uniq</th>\n",
       "    </tr>\n",
       "  </thead>\n",
       "  <tbody>\n",
       "    <tr>\n",
       "      <th>0</th>\n",
       "      <td>A-1049127W</td>\n",
       "      <td>4.255172</td>\n",
       "      <td>1.125753e+07</td>\n",
       "      <td>0.1</td>\n",
       "      <td>179.729652</td>\n",
       "      <td>-0.288229</td>\n",
       "      <td>174</td>\n",
       "      <td>172</td>\n",
       "    </tr>\n",
       "    <tr>\n",
       "      <th>1</th>\n",
       "      <td>A-1079539w</td>\n",
       "      <td>4.088046</td>\n",
       "      <td>1.912765e+07</td>\n",
       "      <td>0.1</td>\n",
       "      <td>184.505566</td>\n",
       "      <td>2.508746</td>\n",
       "      <td>174</td>\n",
       "      <td>173</td>\n",
       "    </tr>\n",
       "  </tbody>\n",
       "</table>\n",
       "</div>"
      ],
      "text/plain": [
       "       car_id  mean_rating  distance_sum  rating_min   speed_max  \\\n",
       "0  A-1049127W     4.255172  1.125753e+07         0.1  179.729652   \n",
       "1  A-1079539w     4.088046  1.912765e+07         0.1  184.505566   \n",
       "\n",
       "   user_ride_quality_median  deviation_normal_count  user_uniq  \n",
       "0                 -0.288229                     174        172  \n",
       "1                  2.508746                     174        173  "
      ]
     },
     "execution_count": 4,
     "metadata": {},
     "output_type": "execute_result"
    }
   ],
   "source": [
    "f = lambda x: x.nunique()\n",
    "rides_df_gr = rides.groupby(\"car_id\", as_index=False).agg(\n",
    "    mean_rating=(\"rating\", \"mean\"),\n",
    "    distance_sum=(\"distance\", \"sum\"),\n",
    "    rating_min=(\"rating\", \"min\"),\n",
    "    speed_max=(\"speed_max\", \"max\"),\n",
    "    user_ride_quality_median=(\"user_ride_quality\", \"median\"),\n",
    "    deviation_normal_count=(\"deviation_normal\", \"count\"),\n",
    "    user_uniq=(\"user_id\", f),\n",
    ")\n",
    "\n",
    "\n",
    "rides_df_gr.head(2)"
   ]
  },
  {
   "cell_type": "code",
   "execution_count": 5,
   "id": "bb5fa78e-fa0e-4765-80bc-6e0414a64e43",
   "metadata": {},
   "outputs": [],
   "source": [
    "def add_featues(df):\n",
    "\n",
    "    if \"mean_rating\" not in df.columns:\n",
    "        return df.merge(rides_df_gr, on=\"car_id\", how=\"left\")\n",
    "\n",
    "    return df\n",
    "\n",
    "\n",
    "train = add_featues(train)\n",
    "test = add_featues(test)"
   ]
  },
  {
   "cell_type": "markdown",
   "id": "f9da23f0-116c-4050-a9ef-b478b12078a4",
   "metadata": {},
   "source": [
    "# Закодируем категориальные признаки (`o-h-e`)"
   ]
  },
  {
   "cell_type": "code",
   "execution_count": 6,
   "id": "5cdac8fb-64af-4e96-bc9b-abbb727831ac",
   "metadata": {},
   "outputs": [
    {
     "data": {
      "text/html": [
       "<div>\n",
       "<style scoped>\n",
       "    .dataframe tbody tr th:only-of-type {\n",
       "        vertical-align: middle;\n",
       "    }\n",
       "\n",
       "    .dataframe tbody tr th {\n",
       "        vertical-align: top;\n",
       "    }\n",
       "\n",
       "    .dataframe thead th {\n",
       "        text-align: right;\n",
       "    }\n",
       "</style>\n",
       "<table border=\"1\" class=\"dataframe\">\n",
       "  <thead>\n",
       "    <tr style=\"text-align: right;\">\n",
       "      <th></th>\n",
       "      <th>car_id</th>\n",
       "      <th>car_rating</th>\n",
       "      <th>year_to_start</th>\n",
       "      <th>riders</th>\n",
       "      <th>year_to_work</th>\n",
       "      <th>target_reg</th>\n",
       "      <th>target_class</th>\n",
       "      <th>mean_rating</th>\n",
       "      <th>distance_sum</th>\n",
       "      <th>rating_min</th>\n",
       "      <th>...</th>\n",
       "      <th>model_Renault Sandero</th>\n",
       "      <th>model_Skoda Rapid</th>\n",
       "      <th>model_Smart Coupe</th>\n",
       "      <th>model_Smart ForFour</th>\n",
       "      <th>model_Smart ForTwo</th>\n",
       "      <th>model_Tesla Model 3</th>\n",
       "      <th>model_VW Polo</th>\n",
       "      <th>model_VW Polo VI</th>\n",
       "      <th>model_VW Tiguan</th>\n",
       "      <th>model_Volkswagen ID.4</th>\n",
       "    </tr>\n",
       "  </thead>\n",
       "  <tbody>\n",
       "    <tr>\n",
       "      <th>0</th>\n",
       "      <td>y13744087j</td>\n",
       "      <td>3.78</td>\n",
       "      <td>2015</td>\n",
       "      <td>76163</td>\n",
       "      <td>2021</td>\n",
       "      <td>108.53</td>\n",
       "      <td>another_bug</td>\n",
       "      <td>4.737759</td>\n",
       "      <td>1.214131e+07</td>\n",
       "      <td>0.1</td>\n",
       "      <td>...</td>\n",
       "      <td>0</td>\n",
       "      <td>0</td>\n",
       "      <td>0</td>\n",
       "      <td>0</td>\n",
       "      <td>0</td>\n",
       "      <td>0</td>\n",
       "      <td>0</td>\n",
       "      <td>0</td>\n",
       "      <td>0</td>\n",
       "      <td>0</td>\n",
       "    </tr>\n",
       "    <tr>\n",
       "      <th>1</th>\n",
       "      <td>O41613818T</td>\n",
       "      <td>3.90</td>\n",
       "      <td>2015</td>\n",
       "      <td>78218</td>\n",
       "      <td>2021</td>\n",
       "      <td>35.20</td>\n",
       "      <td>electro_bug</td>\n",
       "      <td>4.480517</td>\n",
       "      <td>1.803909e+07</td>\n",
       "      <td>0.0</td>\n",
       "      <td>...</td>\n",
       "      <td>0</td>\n",
       "      <td>0</td>\n",
       "      <td>0</td>\n",
       "      <td>0</td>\n",
       "      <td>0</td>\n",
       "      <td>0</td>\n",
       "      <td>0</td>\n",
       "      <td>1</td>\n",
       "      <td>0</td>\n",
       "      <td>0</td>\n",
       "    </tr>\n",
       "    <tr>\n",
       "      <th>2</th>\n",
       "      <td>d-2109686j</td>\n",
       "      <td>6.30</td>\n",
       "      <td>2012</td>\n",
       "      <td>23340</td>\n",
       "      <td>2017</td>\n",
       "      <td>38.62</td>\n",
       "      <td>gear_stick</td>\n",
       "      <td>4.768391</td>\n",
       "      <td>1.588366e+07</td>\n",
       "      <td>0.1</td>\n",
       "      <td>...</td>\n",
       "      <td>1</td>\n",
       "      <td>0</td>\n",
       "      <td>0</td>\n",
       "      <td>0</td>\n",
       "      <td>0</td>\n",
       "      <td>0</td>\n",
       "      <td>0</td>\n",
       "      <td>0</td>\n",
       "      <td>0</td>\n",
       "      <td>0</td>\n",
       "    </tr>\n",
       "    <tr>\n",
       "      <th>3</th>\n",
       "      <td>u29695600e</td>\n",
       "      <td>4.04</td>\n",
       "      <td>2011</td>\n",
       "      <td>1263</td>\n",
       "      <td>2020</td>\n",
       "      <td>30.34</td>\n",
       "      <td>engine_fuel</td>\n",
       "      <td>3.880920</td>\n",
       "      <td>1.651883e+07</td>\n",
       "      <td>0.1</td>\n",
       "      <td>...</td>\n",
       "      <td>0</td>\n",
       "      <td>0</td>\n",
       "      <td>0</td>\n",
       "      <td>0</td>\n",
       "      <td>0</td>\n",
       "      <td>0</td>\n",
       "      <td>0</td>\n",
       "      <td>0</td>\n",
       "      <td>0</td>\n",
       "      <td>0</td>\n",
       "    </tr>\n",
       "  </tbody>\n",
       "</table>\n",
       "<p>4 rows × 46 columns</p>\n",
       "</div>"
      ],
      "text/plain": [
       "       car_id  car_rating  year_to_start  riders  year_to_work  target_reg  \\\n",
       "0  y13744087j        3.78           2015   76163          2021      108.53   \n",
       "1  O41613818T        3.90           2015   78218          2021       35.20   \n",
       "2  d-2109686j        6.30           2012   23340          2017       38.62   \n",
       "3  u29695600e        4.04           2011    1263          2020       30.34   \n",
       "\n",
       "  target_class  mean_rating  distance_sum  rating_min  ...  \\\n",
       "0  another_bug     4.737759  1.214131e+07         0.1  ...   \n",
       "1  electro_bug     4.480517  1.803909e+07         0.0  ...   \n",
       "2   gear_stick     4.768391  1.588366e+07         0.1  ...   \n",
       "3  engine_fuel     3.880920  1.651883e+07         0.1  ...   \n",
       "\n",
       "   model_Renault Sandero  model_Skoda Rapid  model_Smart Coupe  \\\n",
       "0                      0                  0                  0   \n",
       "1                      0                  0                  0   \n",
       "2                      1                  0                  0   \n",
       "3                      0                  0                  0   \n",
       "\n",
       "   model_Smart ForFour  model_Smart ForTwo  model_Tesla Model 3  \\\n",
       "0                    0                   0                    0   \n",
       "1                    0                   0                    0   \n",
       "2                    0                   0                    0   \n",
       "3                    0                   0                    0   \n",
       "\n",
       "   model_VW Polo  model_VW Polo VI  model_VW Tiguan  model_Volkswagen ID.4   \n",
       "0              0                 0                0                       0  \n",
       "1              0                 1                0                       0  \n",
       "2              0                 0                0                       0  \n",
       "3              0                 0                0                       0  \n",
       "\n",
       "[4 rows x 46 columns]"
      ]
     },
     "execution_count": 6,
     "metadata": {},
     "output_type": "execute_result"
    }
   ],
   "source": [
    "cat_features = [\"car_type\", \"fuel_type\", \"model\"]\n",
    "train = pd.get_dummies(train, columns=cat_features)\n",
    "test = pd.get_dummies(test, columns=cat_features)\n",
    "\n",
    "train.head(4)"
   ]
  },
  {
   "cell_type": "markdown",
   "id": "c735f736-c658-49f6-8c5d-2526dab60b55",
   "metadata": {},
   "source": [
    "# Классифицируем признаки"
   ]
  },
  {
   "cell_type": "code",
   "execution_count": 7,
   "id": "38c5447c-94ab-4006-9502-10ed8c68ae14",
   "metadata": {},
   "outputs": [
    {
     "name": "stdout",
     "output_type": "stream",
     "text": [
      "cat_features : 3 ['car_type', 'fuel_type', 'model']\n",
      "num_features : 43 ['car_rating', 'year_to_start', 'riders', 'year_to_work', 'mean_rating', 'distance_sum', 'rating_min', 'speed_max', 'user_ride_quality_median', 'deviation_normal_count', 'user_uniq', 'car_type_business', 'car_type_economy', 'car_type_premium', 'car_type_standart', 'fuel_type_electro', 'fuel_type_petrol', 'model_Audi A3', 'model_Audi A4', 'model_Audi Q3', 'model_BMW 320i', 'model_Fiat 500', 'model_Hyundai Solaris', 'model_Kia Rio', 'model_Kia Rio X', 'model_Kia Rio X-line', 'model_Kia Sportage', 'model_MINI CooperSE', 'model_Mercedes-Benz E200', 'model_Mercedes-Benz GLC', 'model_Mini Cooper', 'model_Nissan Qashqai', 'model_Renault Kaptur', 'model_Renault Sandero', 'model_Skoda Rapid', 'model_Smart Coupe', 'model_Smart ForFour', 'model_Smart ForTwo', 'model_Tesla Model 3', 'model_VW Polo', 'model_VW Polo VI', 'model_VW Tiguan', 'model_Volkswagen ID.4 ']\n",
      "targets ['target_class', 'target_reg']\n"
     ]
    }
   ],
   "source": [
    "features2drop = [\"car_id\", \"target_reg\"]  # То, что можно выбросить\n",
    "targets = [\"target_class\", \"target_reg\"]  # Таргеты\n",
    "cat_features = [\"car_type\", \"fuel_type\", \"model\"]\n",
    "\n",
    "filtered_features = [i for i in train.columns if (i not in targets and i not in features2drop)]\n",
    "num_features = [i for i in filtered_features if i not in cat_features]\n",
    "\n",
    "\n",
    "print(\"cat_features :\", len(cat_features), cat_features)\n",
    "print(\"num_features :\", len(num_features), num_features)\n",
    "print(\"targets\", targets)"
   ]
  },
  {
   "cell_type": "markdown",
   "id": "c3b84c09-1dd5-4ec2-9d47-e895ae108c28",
   "metadata": {},
   "source": [
    "# 👩‍🏫 Учим `Random Forest` с `K-fold` валидацией"
   ]
  },
  {
   "cell_type": "code",
   "execution_count": 8,
   "id": "a81dd722-ffdf-4578-91f3-058f59c3a589",
   "metadata": {},
   "outputs": [],
   "source": [
    "from sklearn.ensemble import RandomForestClassifier\n",
    "from sklearn.model_selection import KFold, StratifiedKFold"
   ]
  },
  {
   "cell_type": "code",
   "execution_count": 9,
   "id": "24bb9a2c-70b3-4254-ba7e-1af7ced226e7",
   "metadata": {},
   "outputs": [
    {
     "name": "stdout",
     "output_type": "stream",
     "text": [
      "fold: 0 acc: 0.8098290598290598\n",
      "fold: 1 acc: 0.7841880341880342\n",
      "fold: 2 acc: 0.8222698072805139\n",
      "fold: 3 acc: 0.7751605995717344\n",
      "fold: 4 acc: 0.7944325481798715\n",
      "mean accuracy score -- 0.7974 0.017\n"
     ]
    }
   ],
   "source": [
    "X = train[filtered_features].drop(targets, axis=1, errors=\"ignore\")\n",
    "y = train[[\"target_class\"]]\n",
    "\n",
    "n_splits = 5\n",
    "clfs = []\n",
    "scores = []\n",
    "\n",
    "# параметры валидации, обучение будет идти на n_splits (фолдах)\n",
    "kf = KFold(n_splits=n_splits, shuffle=True, random_state=7575)\n",
    "for num, (train_index, test_index) in enumerate(kf.split(X)):\n",
    "\n",
    "    X_train, X_test = X.iloc[train_index], X.iloc[test_index]\n",
    "    y_train, y_test = y.iloc[train_index], y.iloc[test_index]\n",
    "\n",
    "    clf = RandomForestClassifier(\n",
    "        n_estimators=2_000,\n",
    "        min_samples_leaf=4,\n",
    "        n_jobs=-1,\n",
    "        max_features=0.60,\n",
    "        # class_weight = 'balanced',\n",
    "        random_state=7575,\n",
    "        max_depth=6,\n",
    "    )\n",
    "\n",
    "    clfs.append(clf)  # Сохраняем модель для дальнейшего использования\n",
    "\n",
    "    clf.fit(X_train, y_train[\"target_class\"])\n",
    "\n",
    "    y_pred = clf.predict(X_test)\n",
    "    score = np.mean(np.array(y_pred == y_test[\"target_class\"]))\n",
    "    scores.append(score)\n",
    "    print(f\"fold: {num} acc: {score}\")\n",
    "\n",
    "assert len(clfs) == n_splits  # Проверка, что все ок\n",
    "\n",
    "# Считаем среднее и дисперсию по всем фолдам\n",
    "print(\"mean accuracy score --\", np.mean(scores, dtype=\"float16\"), np.std(scores).round(4))"
   ]
  },
  {
   "cell_type": "markdown",
   "id": "1ad45d63-b4e4-4b61-af09-ba94f03902cc",
   "metadata": {},
   "source": [
    "<div class=\"alert alert-info\">\n",
    "\n",
    "## TODO-лист хорошей валидации    \n",
    "    \n",
    "* Фиксируем все `random_state`!\n",
    "* Сохраняем модели всех фолдов, для инференса!\n",
    "* Считаем не только среднее, но и дисперсию [если дисперсия высокая (в зависимости от задачи), то имеет место оверфит или утечка данных (`dataleak`)]\n",
    "* Прикручиваем раннюю остановку `Early Stopping`\n",
    "* Считаем кастомную метрику соревнования (особенно, если она комплексная)"
   ]
  },
  {
   "cell_type": "markdown",
   "id": "c66e578d-263c-40ea-a5c4-bd1934a7d66a",
   "metadata": {},
   "source": [
    "# 👨‍🏫 Учим `Random Forest` со `Stratified K-fold` валидацией"
   ]
  },
  {
   "cell_type": "code",
   "execution_count": 10,
   "id": "ce25cb89-8d14-4157-8fef-5aea2a64ffa0",
   "metadata": {},
   "outputs": [
    {
     "name": "stdout",
     "output_type": "stream",
     "text": [
      "fold: acc: 0.7927350427350427\n",
      "fold: acc: 0.8311965811965812\n",
      "fold: acc: 0.8072805139186295\n",
      "fold: acc: 0.7987152034261242\n",
      "fold: acc: 0.7815845824411135\n",
      "mean accuracy score -- 0.8022 0.0167\n"
     ]
    }
   ],
   "source": [
    "clfs = []\n",
    "scores = []\n",
    "kf = StratifiedKFold(n_splits=n_splits, shuffle=True, random_state=7575)\n",
    "\n",
    "for train_index, test_index in kf.split(X=X, y=y[\"target_class\"]):\n",
    "\n",
    "    X_train, X_test = X.iloc[train_index], X.iloc[test_index]\n",
    "    y_train, y_test = y.iloc[train_index], y.iloc[test_index]\n",
    "\n",
    "    # print(X_train.shape, y_train.shape)\n",
    "    clf = RandomForestClassifier(\n",
    "        n_estimators=2_000,\n",
    "        min_samples_leaf=4,\n",
    "        n_jobs=-1,\n",
    "        max_features=0.60,\n",
    "        random_state=7575,\n",
    "        max_depth=6,\n",
    "    )\n",
    "    clfs.append(clf)\n",
    "\n",
    "    clf.fit(X_train, y_train[\"target_class\"])\n",
    "\n",
    "    y_pred = clf.predict(X_test)\n",
    "    score = np.mean(np.array(y_pred == y_test[\"target_class\"]))\n",
    "    scores.append(score)\n",
    "    print(f\"fold: acc: {score}\")\n",
    "\n",
    "assert len(clfs) == n_splits\n",
    "print(\n",
    "    \"mean accuracy score --\", np.mean(scores, dtype=\"float16\"), np.std(scores).round(4)\n",
    ")"
   ]
  },
  {
   "cell_type": "markdown",
   "id": "d644bada-a3e9-4b31-b5c1-ccb57e5355c5",
   "metadata": {},
   "source": [
    "# 🍏 Полезная привычка\n",
    "\n",
    "записывай скоры валидации в ячейку и их лидер-борд значение"
   ]
  },
  {
   "cell_type": "code",
   "execution_count": 11,
   "id": "51bba41a-64e6-4943-8355-4097f0dedccc",
   "metadata": {},
   "outputs": [],
   "source": [
    "# mean acc score -- 0.723 0.0179 --> LB 0.770\n",
    "# mean acc score -- 0.645 0.0351 --> LB 0.560\n",
    "# mean acc score -- 0.532 0.0232 --> LB 0.410\n",
    "# mean acc score -- 0.412 0.0513 --> LB 0.250\n",
    "# mean acc score -- 0.278 0.0287 --> LB 0.100"
   ]
  },
  {
   "cell_type": "code",
   "execution_count": null,
   "id": "84bee417-8af7-46d5-9198-b1cf6bf06b69",
   "metadata": {},
   "outputs": [],
   "source": []
  },
  {
   "cell_type": "markdown",
   "id": "69f444ee-b5b5-4241-83b1-937b5cbc8b14",
   "metadata": {},
   "source": [
    "# 💣 Делаем прогноз для теста (инференс)"
   ]
  },
  {
   "cell_type": "code",
   "execution_count": 15,
   "id": "d8187464-dfba-49e1-908e-fdce4f7d3773",
   "metadata": {},
   "outputs": [
    {
     "data": {
      "text/html": [
       "<div>\n",
       "<style scoped>\n",
       "    .dataframe tbody tr th:only-of-type {\n",
       "        vertical-align: middle;\n",
       "    }\n",
       "\n",
       "    .dataframe tbody tr th {\n",
       "        vertical-align: top;\n",
       "    }\n",
       "\n",
       "    .dataframe thead th {\n",
       "        text-align: right;\n",
       "    }\n",
       "</style>\n",
       "<table border=\"1\" class=\"dataframe\">\n",
       "  <thead>\n",
       "    <tr style=\"text-align: right;\">\n",
       "      <th></th>\n",
       "      <th>car_id</th>\n",
       "      <th>target_class</th>\n",
       "    </tr>\n",
       "  </thead>\n",
       "  <tbody>\n",
       "    <tr>\n",
       "      <th>0</th>\n",
       "      <td>P17494612l</td>\n",
       "      <td>engine_overheat</td>\n",
       "    </tr>\n",
       "    <tr>\n",
       "      <th>1</th>\n",
       "      <td>N-1530212S</td>\n",
       "      <td>electro_bug</td>\n",
       "    </tr>\n",
       "    <tr>\n",
       "      <th>2</th>\n",
       "      <td>B-1154399t</td>\n",
       "      <td>break_bug</td>\n",
       "    </tr>\n",
       "    <tr>\n",
       "      <th>3</th>\n",
       "      <td>F12725233R</td>\n",
       "      <td>gear_stick</td>\n",
       "    </tr>\n",
       "    <tr>\n",
       "      <th>4</th>\n",
       "      <td>l-1139189J</td>\n",
       "      <td>electro_bug</td>\n",
       "    </tr>\n",
       "  </tbody>\n",
       "</table>\n",
       "</div>"
      ],
      "text/plain": [
       "       car_id     target_class\n",
       "0  P17494612l  engine_overheat\n",
       "1  N-1530212S      electro_bug\n",
       "2  B-1154399t        break_bug\n",
       "3  F12725233R       gear_stick\n",
       "4  l-1139189J      electro_bug"
      ]
     },
     "execution_count": 15,
     "metadata": {},
     "output_type": "execute_result"
    }
   ],
   "source": [
    "path = 'https://stepik.org/media/attachments/lesson/779913/sample_sub.csv'\n",
    "sub = pd.read_csv(path)\n",
    "\n",
    "# массив для записи финального прогноза size*n_class\n",
    "y_pred = np.zeros((sub.shape[0], train[targets].nunique()[0]))\n",
    "\n",
    "# Используем все модели из списка clfs для инференса\n",
    "for n, clf in enumerate(clfs):\n",
    "    y_pred += clf.predict_proba(test[filtered_features])\n",
    "\n",
    "f = lambda x: clf.classes_[x]\n",
    "sub[\"target_class\"] = list(map(f, y_pred.argmax(axis=1)))\n",
    "\n",
    "sub[[\"car_id\", \"target_class\"]].to_csv(\"../subs/rforest_kfold.csv\", index=False)\n",
    "sub[[\"car_id\", \"target_class\"]].head()"
   ]
  },
  {
   "cell_type": "markdown",
   "id": "d0750897-699f-4c9c-8cb5-c658a817df27",
   "metadata": {},
   "source": [
    "# 🤔 А на что опирается модель? -  `Feature Importance` "
   ]
  },
  {
   "cell_type": "code",
   "execution_count": 13,
   "id": "6b66882c-1f78-4557-a908-2ac58927d7d2",
   "metadata": {},
   "outputs": [],
   "source": [
    "import matplotlib.pyplot as plt\n",
    "import seaborn as sns\n",
    "\n",
    "sns.set_theme()"
   ]
  },
  {
   "cell_type": "code",
   "execution_count": 14,
   "id": "5d4fe782-5d36-480a-9f62-278ead0e6661",
   "metadata": {},
   "outputs": [
    {
     "name": "stdout",
     "output_type": "stream",
     "text": [
      "Всего признаков 43 Усреднее по 5-ти моделям: \n",
      "На график нанесено топ-43 признаков\n"
     ]
    },
    {
     "data": {
      "image/png": "[encoded data removed]",
      "text/plain": [
       "<Figure size 1000x860 with 1 Axes>"
      ]
     },
     "metadata": {},
     "output_type": "display_data"
    }
   ],
   "source": [
    "def plot_importance(df, best_model, height, top_n=50):\n",
    "\n",
    "    top_n = min(top_n, df.shape[1])\n",
    "\n",
    "    # Извлекаем значения из модели\n",
    "    fi = pd.DataFrame(index=df.columns, columns=[])\n",
    "    for i, m in enumerate(best_model):\n",
    "        fi[f\"m_{i}\"] = m.feature_importances_\n",
    "\n",
    "    fi = fi.stack().reset_index().iloc[:, [0, 2]]\n",
    "    fi.columns = [\"feature\", \"importance\"]\n",
    "\n",
    "    # Определяем порядок признаков и отбираем только n признаков для отрисовки\n",
    "    cols_ord = (\n",
    "        fi.groupby(\"feature\")[\"importance\"]\n",
    "        .mean()\n",
    "        .sort_values(ascending=False)\n",
    "        .index.tolist()[:top_n]\n",
    "    )\n",
    "\n",
    "    fi = fi[fi[\"feature\"].isin(cols_ord)]  # Выравниваем порядок по убыванию важности\n",
    "    print( \"Всего признаков {} Усреднее по {}-ти моделям: \".format(len(cols_ord), len(best_model)))\n",
    "\n",
    "    # Отрисовываем боксплоты фичей\n",
    "    plt.figure(figsize=(10, len(cols_ord) * height))\n",
    "    b = sns.boxplot(data=fi, y=\"feature\", x=\"importance\", orient=\"h\", order=cols_ord)\n",
    "\n",
    "    print(\"На график нанесено топ-{} признаков\".format(top_n))\n",
    "    return (\n",
    "        fi.groupby(by=[\"feature\"], as_index=False)[\"importance\"]\n",
    "        .mean()\n",
    "        .sort_values(by=\"importance\", ascending=False)\n",
    "    )\n",
    "\n",
    "\n",
    "df_feats_imp = plot_importance(\n",
    "    train[filtered_features].drop(targets, axis=1, errors=\"ignore\"),\n",
    "    clfs,\n",
    "    0.20,\n",
    "    top_n=100,\n",
    ")"
   ]
  },
  {
   "cell_type": "markdown",
   "id": "c2166b64-d77a-4b5c-9ce7-1b29ce303d6b",
   "metadata": {},
   "source": [
    "<div class=\"alert alert-info\">\n",
    "    \n",
    "# 🍒 Немного мыслей по итогу\n",
    "\n",
    "* Разные валидации диверсифицируют модель\n",
    "* Валидация ускоряет проверку гипотез\n",
    "* К-fold'я валидация дает вам несмещенную оценку значения метрики\n",
    "* Если в постановке задачи или данных есть проблемы - вы об этом сразу узнаете\n",
    "* Не все виды валидации можно настроить для любого размера данных"
   ]
  }
 ],
 "metadata": {
  "kernelspec": {
   "display_name": "Python 3 (ipykernel)",
   "language": "python",
   "name": "python3"
  },
  "language_info": {
   "codemirror_mode": {
    "name": "ipython",
    "version": 3
   },
   "file_extension": ".py",
   "mimetype": "text/x-python",
   "name": "python",
   "nbconvert_exporter": "python",
   "pygments_lexer": "ipython3",
   "version": "3.10.12"
  }
 },
 "nbformat": 4,
 "nbformat_minor": 5
}
