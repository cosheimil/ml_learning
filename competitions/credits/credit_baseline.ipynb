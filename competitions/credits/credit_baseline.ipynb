{
 "cells": [
  {
   "cell_type": "code",
   "execution_count": 68,
   "metadata": {},
   "outputs": [],
   "source": [
    "import pandas as pd\n",
    "from sklearn.tree import DecisionTreeClassifier\n",
    "from sklearn.ensemble import RandomForestClassifier\n",
    "from sklearn.model_selection import cross_val_score"
   ]
  },
  {
   "cell_type": "markdown",
   "metadata": {},
   "source": [
    "Откроем файл с данными."
   ]
  },
  {
   "cell_type": "code",
   "execution_count": 69,
   "metadata": {},
   "outputs": [],
   "source": [
    "df = pd.read_csv('credit_train.csv')"
   ]
  },
  {
   "cell_type": "code",
   "execution_count": 70,
   "metadata": {},
   "outputs": [
    {
     "data": {
      "text/html": [
       "<div>\n",
       "<style scoped>\n",
       "    .dataframe tbody tr th:only-of-type {\n",
       "        vertical-align: middle;\n",
       "    }\n",
       "\n",
       "    .dataframe tbody tr th {\n",
       "        vertical-align: top;\n",
       "    }\n",
       "\n",
       "    .dataframe thead th {\n",
       "        text-align: right;\n",
       "    }\n",
       "</style>\n",
       "<table border=\"1\" class=\"dataframe\">\n",
       "  <thead>\n",
       "    <tr style=\"text-align: right;\">\n",
       "      <th></th>\n",
       "      <th>id</th>\n",
       "      <th>gender</th>\n",
       "      <th>age</th>\n",
       "      <th>marital_status</th>\n",
       "      <th>credit_sum</th>\n",
       "      <th>credit_month</th>\n",
       "      <th>tariff_id</th>\n",
       "      <th>education</th>\n",
       "      <th>credit_count</th>\n",
       "      <th>overdue_credit_count</th>\n",
       "      <th>job_pos</th>\n",
       "      <th>credit_score</th>\n",
       "      <th>region</th>\n",
       "      <th>income</th>\n",
       "      <th>opened</th>\n",
       "    </tr>\n",
       "  </thead>\n",
       "  <tbody>\n",
       "    <tr>\n",
       "      <th>0</th>\n",
       "      <td>26031</td>\n",
       "      <td>M</td>\n",
       "      <td>24</td>\n",
       "      <td>UNM</td>\n",
       "      <td>24000,00</td>\n",
       "      <td>10</td>\n",
       "      <td>1.60</td>\n",
       "      <td>SCH</td>\n",
       "      <td>2.0</td>\n",
       "      <td>0.0</td>\n",
       "      <td>SPC</td>\n",
       "      <td>0,728851</td>\n",
       "      <td>ОБЛ ЛЕНИНГРАДСКАЯ</td>\n",
       "      <td>35000.0</td>\n",
       "      <td>True</td>\n",
       "    </tr>\n",
       "    <tr>\n",
       "      <th>1</th>\n",
       "      <td>148877</td>\n",
       "      <td>M</td>\n",
       "      <td>23</td>\n",
       "      <td>UNM</td>\n",
       "      <td>16339,00</td>\n",
       "      <td>18</td>\n",
       "      <td>1.10</td>\n",
       "      <td>SCH</td>\n",
       "      <td>2.0</td>\n",
       "      <td>0.0</td>\n",
       "      <td>SPC</td>\n",
       "      <td>0,347385</td>\n",
       "      <td>МОСКВА Г</td>\n",
       "      <td>38000.0</td>\n",
       "      <td>True</td>\n",
       "    </tr>\n",
       "    <tr>\n",
       "      <th>2</th>\n",
       "      <td>142019</td>\n",
       "      <td>M</td>\n",
       "      <td>54</td>\n",
       "      <td>UNM</td>\n",
       "      <td>15652,00</td>\n",
       "      <td>10</td>\n",
       "      <td>1.32</td>\n",
       "      <td>GRD</td>\n",
       "      <td>2.0</td>\n",
       "      <td>0.0</td>\n",
       "      <td>SPC</td>\n",
       "      <td>0,349705</td>\n",
       "      <td>ОБЛ МОСКОВСКАЯ</td>\n",
       "      <td>38000.0</td>\n",
       "      <td>True</td>\n",
       "    </tr>\n",
       "    <tr>\n",
       "      <th>3</th>\n",
       "      <td>146816</td>\n",
       "      <td>F</td>\n",
       "      <td>52</td>\n",
       "      <td>UNM</td>\n",
       "      <td>16560,00</td>\n",
       "      <td>10</td>\n",
       "      <td>1.10</td>\n",
       "      <td>SCH</td>\n",
       "      <td>1.0</td>\n",
       "      <td>0.0</td>\n",
       "      <td>SPC</td>\n",
       "      <td>0,359232</td>\n",
       "      <td>РЕСП МОРДОВИЯ</td>\n",
       "      <td>28000.0</td>\n",
       "      <td>False</td>\n",
       "    </tr>\n",
       "    <tr>\n",
       "      <th>4</th>\n",
       "      <td>27699</td>\n",
       "      <td>F</td>\n",
       "      <td>63</td>\n",
       "      <td>WID</td>\n",
       "      <td>9078,00</td>\n",
       "      <td>18</td>\n",
       "      <td>1.10</td>\n",
       "      <td>SCH</td>\n",
       "      <td>4.0</td>\n",
       "      <td>0.0</td>\n",
       "      <td>SPC</td>\n",
       "      <td>0,529368</td>\n",
       "      <td>ЧЕЛЯБИНСКАЯ ОБЛ</td>\n",
       "      <td>30000.0</td>\n",
       "      <td>False</td>\n",
       "    </tr>\n",
       "  </tbody>\n",
       "</table>\n",
       "</div>"
      ],
      "text/plain": [
       "       id gender  age marital_status credit_sum  credit_month  tariff_id  \\\n",
       "0   26031      M   24            UNM   24000,00            10       1.60   \n",
       "1  148877      M   23            UNM   16339,00            18       1.10   \n",
       "2  142019      M   54            UNM   15652,00            10       1.32   \n",
       "3  146816      F   52            UNM   16560,00            10       1.10   \n",
       "4   27699      F   63            WID    9078,00            18       1.10   \n",
       "\n",
       "  education  credit_count  overdue_credit_count job_pos credit_score  \\\n",
       "0       SCH           2.0                   0.0     SPC     0,728851   \n",
       "1       SCH           2.0                   0.0     SPC     0,347385   \n",
       "2       GRD           2.0                   0.0     SPC     0,349705   \n",
       "3       SCH           1.0                   0.0     SPC     0,359232   \n",
       "4       SCH           4.0                   0.0     SPC     0,529368   \n",
       "\n",
       "              region   income  opened  \n",
       "0  ОБЛ ЛЕНИНГРАДСКАЯ  35000.0    True  \n",
       "1           МОСКВА Г  38000.0    True  \n",
       "2     ОБЛ МОСКОВСКАЯ  38000.0    True  \n",
       "3      РЕСП МОРДОВИЯ  28000.0   False  \n",
       "4    ЧЕЛЯБИНСКАЯ ОБЛ  30000.0   False  "
      ]
     },
     "execution_count": 70,
     "metadata": {},
     "output_type": "execute_result"
    }
   ],
   "source": [
    "df.head()"
   ]
  },
  {
   "cell_type": "markdown",
   "metadata": {},
   "source": [
    "Удалим колонки с которыми мы не умеем работать (ну или вы умеете :D)"
   ]
  },
  {
   "cell_type": "code",
   "execution_count": 71,
   "metadata": {},
   "outputs": [],
   "source": [
    "y_train = df['opened']\n",
    "X_train = df.drop(columns=['gender', 'marital_status', 'education', 'job_pos', 'region', 'opened'])\n",
    "X_train['credit_sum'] = X_train['credit_sum'].apply(lambda x: float(x.replace(',', '.')))\n",
    "X_train['credit_score'] = X_train['credit_score'].apply(lambda x: float(x.replace(',', '.')))\n",
    "X_train = X_train.fillna(-1)"
   ]
  },
  {
   "cell_type": "markdown",
   "metadata": {},
   "source": [
    "Обучим что-нибудь классное"
   ]
  },
  {
   "cell_type": "code",
   "execution_count": 73,
   "metadata": {},
   "outputs": [
    {
     "name": "stdout",
     "output_type": "stream",
     "text": [
      "0.15736432502040495\n"
     ]
    },
    {
     "data": {
      "text/plain": [
       "RandomForestClassifier(max_depth=15, n_estimators=10)"
      ]
     },
     "execution_count": 73,
     "metadata": {},
     "output_type": "execute_result"
    }
   ],
   "source": [
    "clf = RandomForestClassifier(n_estimators=10, max_depth=15)\n",
    "print(cross_val_score(clf, X_train, y_train, cv = 5, scoring='f1').mean())\n",
    "clf.fit(X_train, y_train)"
   ]
  },
  {
   "cell_type": "markdown",
   "metadata": {},
   "source": [
    "Считаем тестовую выборку и предскажем ответы для нее"
   ]
  },
  {
   "cell_type": "code",
   "execution_count": 74,
   "metadata": {},
   "outputs": [
    {
     "data": {
      "text/html": [
       "<div>\n",
       "<style scoped>\n",
       "    .dataframe tbody tr th:only-of-type {\n",
       "        vertical-align: middle;\n",
       "    }\n",
       "\n",
       "    .dataframe tbody tr th {\n",
       "        vertical-align: top;\n",
       "    }\n",
       "\n",
       "    .dataframe thead th {\n",
       "        text-align: right;\n",
       "    }\n",
       "</style>\n",
       "<table border=\"1\" class=\"dataframe\">\n",
       "  <thead>\n",
       "    <tr style=\"text-align: right;\">\n",
       "      <th></th>\n",
       "      <th>id</th>\n",
       "      <th>gender</th>\n",
       "      <th>age</th>\n",
       "      <th>marital_status</th>\n",
       "      <th>credit_sum</th>\n",
       "      <th>credit_month</th>\n",
       "      <th>tariff_id</th>\n",
       "      <th>education</th>\n",
       "      <th>credit_count</th>\n",
       "      <th>overdue_credit_count</th>\n",
       "      <th>job_pos</th>\n",
       "      <th>credit_score</th>\n",
       "      <th>region</th>\n",
       "      <th>income</th>\n",
       "    </tr>\n",
       "  </thead>\n",
       "  <tbody>\n",
       "    <tr>\n",
       "      <th>0</th>\n",
       "      <td>39162</td>\n",
       "      <td>F</td>\n",
       "      <td>18</td>\n",
       "      <td>UNM</td>\n",
       "      <td>39469,00</td>\n",
       "      <td>6</td>\n",
       "      <td>1.44</td>\n",
       "      <td>GRD</td>\n",
       "      <td>NaN</td>\n",
       "      <td>NaN</td>\n",
       "      <td>SPC</td>\n",
       "      <td>0,424628</td>\n",
       "      <td>САНКТ-ПЕТЕРБУРГ Г</td>\n",
       "      <td>30000.0</td>\n",
       "    </tr>\n",
       "    <tr>\n",
       "      <th>1</th>\n",
       "      <td>10673</td>\n",
       "      <td>F</td>\n",
       "      <td>63</td>\n",
       "      <td>WID</td>\n",
       "      <td>16693,00</td>\n",
       "      <td>10</td>\n",
       "      <td>1.32</td>\n",
       "      <td>GRD</td>\n",
       "      <td>2.0</td>\n",
       "      <td>0.0</td>\n",
       "      <td>SPC</td>\n",
       "      <td>0,311945</td>\n",
       "      <td>ОБЛ ЛЕНИНГРАДСКАЯ</td>\n",
       "      <td>21250.0</td>\n",
       "    </tr>\n",
       "    <tr>\n",
       "      <th>2</th>\n",
       "      <td>121409</td>\n",
       "      <td>M</td>\n",
       "      <td>42</td>\n",
       "      <td>MAR</td>\n",
       "      <td>60260,00</td>\n",
       "      <td>10</td>\n",
       "      <td>1.10</td>\n",
       "      <td>GRD</td>\n",
       "      <td>5.0</td>\n",
       "      <td>0.0</td>\n",
       "      <td>SPC</td>\n",
       "      <td>0,421982</td>\n",
       "      <td>МОСКВА Г</td>\n",
       "      <td>150000.0</td>\n",
       "    </tr>\n",
       "    <tr>\n",
       "      <th>3</th>\n",
       "      <td>23504</td>\n",
       "      <td>M</td>\n",
       "      <td>41</td>\n",
       "      <td>MAR</td>\n",
       "      <td>32479,00</td>\n",
       "      <td>12</td>\n",
       "      <td>1.10</td>\n",
       "      <td>GRD</td>\n",
       "      <td>1.0</td>\n",
       "      <td>0.0</td>\n",
       "      <td>DIR</td>\n",
       "      <td>0,406572</td>\n",
       "      <td>ТАТАРСТАН РЕСП</td>\n",
       "      <td>150000.0</td>\n",
       "    </tr>\n",
       "    <tr>\n",
       "      <th>4</th>\n",
       "      <td>69269</td>\n",
       "      <td>F</td>\n",
       "      <td>24</td>\n",
       "      <td>UNM</td>\n",
       "      <td>8159,00</td>\n",
       "      <td>12</td>\n",
       "      <td>1.10</td>\n",
       "      <td>SCH</td>\n",
       "      <td>2.0</td>\n",
       "      <td>0.0</td>\n",
       "      <td>SPC</td>\n",
       "      <td>0,418243</td>\n",
       "      <td>ТВЕРСКАЯ ОБЛ</td>\n",
       "      <td>16000.0</td>\n",
       "    </tr>\n",
       "  </tbody>\n",
       "</table>\n",
       "</div>"
      ],
      "text/plain": [
       "       id gender  age marital_status credit_sum  credit_month  tariff_id  \\\n",
       "0   39162      F   18            UNM   39469,00             6       1.44   \n",
       "1   10673      F   63            WID   16693,00            10       1.32   \n",
       "2  121409      M   42            MAR   60260,00            10       1.10   \n",
       "3   23504      M   41            MAR   32479,00            12       1.10   \n",
       "4   69269      F   24            UNM    8159,00            12       1.10   \n",
       "\n",
       "  education  credit_count  overdue_credit_count job_pos credit_score  \\\n",
       "0       GRD           NaN                   NaN     SPC     0,424628   \n",
       "1       GRD           2.0                   0.0     SPC     0,311945   \n",
       "2       GRD           5.0                   0.0     SPC     0,421982   \n",
       "3       GRD           1.0                   0.0     DIR     0,406572   \n",
       "4       SCH           2.0                   0.0     SPC     0,418243   \n",
       "\n",
       "              region    income  \n",
       "0  САНКТ-ПЕТЕРБУРГ Г   30000.0  \n",
       "1  ОБЛ ЛЕНИНГРАДСКАЯ   21250.0  \n",
       "2           МОСКВА Г  150000.0  \n",
       "3     ТАТАРСТАН РЕСП  150000.0  \n",
       "4       ТВЕРСКАЯ ОБЛ   16000.0  "
      ]
     },
     "execution_count": 74,
     "metadata": {},
     "output_type": "execute_result"
    }
   ],
   "source": [
    "df_test = pd.read_csv('credit_test.csv')\n",
    "df_test.head()"
   ]
  },
  {
   "cell_type": "markdown",
   "metadata": {},
   "source": [
    "Удалим колонки с которыми мы не работаем, как и на тренировочной выборке"
   ]
  },
  {
   "cell_type": "code",
   "execution_count": 75,
   "metadata": {},
   "outputs": [],
   "source": [
    "X_test = df_test.drop(columns=['gender', 'marital_status', 'education', 'job_pos', 'region'])\n",
    "X_test['credit_sum'] = X_test['credit_sum'].apply(lambda x: float(x.replace(',', '.')))\n",
    "X_test['credit_score'] = X_test['credit_score'].apply(lambda x: float(x.replace(',', '.')))\n",
    "X_test = X_test.fillna(-1)"
   ]
  },
  {
   "cell_type": "markdown",
   "metadata": {},
   "source": [
    "Предскажем значения для тестовой выборки"
   ]
  },
  {
   "cell_type": "code",
   "execution_count": null,
   "metadata": {},
   "outputs": [],
   "source": []
  },
  {
   "cell_type": "code",
   "execution_count": 79,
   "metadata": {},
   "outputs": [],
   "source": [
    "y_pred = clf.predict(X_test)"
   ]
  },
  {
   "cell_type": "code",
   "execution_count": 80,
   "metadata": {},
   "outputs": [
    {
     "data": {
      "text/plain": [
       "array([False, False, False, ..., False, False, False])"
      ]
     },
     "execution_count": 80,
     "metadata": {},
     "output_type": "execute_result"
    }
   ],
   "source": [
    "y_pred"
   ]
  },
  {
   "cell_type": "markdown",
   "metadata": {},
   "source": [
    "Создадим отдельный датасет для отправки на kaggle. \n",
    "\n",
    "Данный датасет будет содержать только два необходимых столбца — id и наш ответ."
   ]
  },
  {
   "cell_type": "code",
   "execution_count": 81,
   "metadata": {},
   "outputs": [
    {
     "name": "stderr",
     "output_type": "stream",
     "text": [
      "<ipython-input-81-fb2343b59f48>:2: SettingWithCopyWarning: \n",
      "A value is trying to be set on a copy of a slice from a DataFrame.\n",
      "Try using .loc[row_indexer,col_indexer] = value instead\n",
      "\n",
      "See the caveats in the documentation: https://pandas.pydata.org/pandas-docs/stable/user_guide/indexing.html#returning-a-view-versus-a-copy\n",
      "  df_kaggle['opened'] = y_pred.astype(bool)\n"
     ]
    },
    {
     "data": {
      "text/html": [
       "<div>\n",
       "<style scoped>\n",
       "    .dataframe tbody tr th:only-of-type {\n",
       "        vertical-align: middle;\n",
       "    }\n",
       "\n",
       "    .dataframe tbody tr th {\n",
       "        vertical-align: top;\n",
       "    }\n",
       "\n",
       "    .dataframe thead th {\n",
       "        text-align: right;\n",
       "    }\n",
       "</style>\n",
       "<table border=\"1\" class=\"dataframe\">\n",
       "  <thead>\n",
       "    <tr style=\"text-align: right;\">\n",
       "      <th></th>\n",
       "      <th>id</th>\n",
       "      <th>opened</th>\n",
       "    </tr>\n",
       "  </thead>\n",
       "  <tbody>\n",
       "    <tr>\n",
       "      <th>0</th>\n",
       "      <td>39162</td>\n",
       "      <td>False</td>\n",
       "    </tr>\n",
       "    <tr>\n",
       "      <th>1</th>\n",
       "      <td>10673</td>\n",
       "      <td>False</td>\n",
       "    </tr>\n",
       "    <tr>\n",
       "      <th>2</th>\n",
       "      <td>121409</td>\n",
       "      <td>False</td>\n",
       "    </tr>\n",
       "    <tr>\n",
       "      <th>3</th>\n",
       "      <td>23504</td>\n",
       "      <td>False</td>\n",
       "    </tr>\n",
       "    <tr>\n",
       "      <th>4</th>\n",
       "      <td>69269</td>\n",
       "      <td>False</td>\n",
       "    </tr>\n",
       "  </tbody>\n",
       "</table>\n",
       "</div>"
      ],
      "text/plain": [
       "       id  opened\n",
       "0   39162   False\n",
       "1   10673   False\n",
       "2  121409   False\n",
       "3   23504   False\n",
       "4   69269   False"
      ]
     },
     "execution_count": 81,
     "metadata": {},
     "output_type": "execute_result"
    }
   ],
   "source": [
    "df_kaggle = df_test[['id',]]\n",
    "df_kaggle['opened'] = y_pred.astype(bool)\n",
    "df_kaggle.head()"
   ]
  },
  {
   "cell_type": "markdown",
   "metadata": {},
   "source": [
    "Сохраним полученный результат в .csv файл для отправки на kaggle"
   ]
  },
  {
   "cell_type": "code",
   "execution_count": 82,
   "metadata": {},
   "outputs": [],
   "source": [
    "df_kaggle.to_csv('my_submission.csv', index=False)"
   ]
  },
  {
   "cell_type": "code",
   "execution_count": null,
   "metadata": {},
   "outputs": [],
   "source": []
  },
  {
   "cell_type": "code",
   "execution_count": null,
   "metadata": {},
   "outputs": [],
   "source": []
  }
 ],
 "metadata": {
  "kernelspec": {
   "display_name": "Python 3",
   "language": "python",
   "name": "python3"
  },
  "language_info": {
   "codemirror_mode": {
    "name": "ipython",
    "version": 3
   },
   "file_extension": ".py",
   "mimetype": "text/x-python",
   "name": "python",
   "nbconvert_exporter": "python",
   "pygments_lexer": "ipython3",
   "version": "3.10.10"
  }
 },
 "nbformat": 4,
 "nbformat_minor": 4
}
